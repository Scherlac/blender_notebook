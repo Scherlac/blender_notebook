{
 "cells": [
  {
   "cell_type": "markdown",
   "metadata": {},
   "source": [
    "# The Blender Notebook Tutorial\n",
    "\n",
    "\n",
    "Every year I spend a few days researching new technology and software tools. The almost exponential growth of the IT industry is only possible through repeated breakthroughs and continuous investments in the latest technological inventions.\n",
    "The world of open source software can't stop surprising me with equally impressive advances.\n",
    "\n",
    "I spent a few days this year celebrating my passion for 3D animation by watching Blender tutorials with my kids. Since Blender is free, we had no problem experimenting ourselves. I supported them by showing the techniques and they presented me some challenges. Fair business.\n",
    "\n",
    "Before we dive into our main topic, let me include here some links I stumbled upon this year:\n",
    "\n",
    "- [PyTorch3D](https://pytorch3d.org/)\n",
    "\n",
    "If you don't know what hack PyTorch3D is (as I didn't know), check out the following video:\n",
    "\n",
    "- [Building 3D deep learning models with PyTorch3D](https://www.youtube.com/watch?v=0JEb7knenps)\n",
    "\n",
    "Why do I get the feeling they use Blender in this video? Just a few more click and we arrive to Colaboratory:\n",
    "\n",
    "- [Colaboratory](https://colab.research.google.com/notebooks/intro.ipynb)\n",
    "\n",
    "My next search was \"blender jupyter notebook kernel\", and there you have it:\n",
    "\n",
    "- [Blender Notebook](https://pypi.org/project/blender-notebook/)\n",
    "\n",
    "\n",
    "In this Jupiter Notebook I will present you some concept how to use a notebooks to visualize you Blender work flow. \n",
    "\n"
   ]
  },
  {
   "cell_type": "markdown",
   "metadata": {},
   "source": [
    "# Prerequsit\n",
    "\n",
    "In this notebook we assume that the Blender kernel is already installed and configured.\n",
    "\n",
    "For this it is important to install the Jupyter notebook with the following command:\n",
    "\n",
    "```shell\n",
    "    pip install blender_notebook\n",
    "    blender_notebook install --blender-exec=\"c:\\Program Files\\Blender Foundation\\Blender 2.91\\blender.exe\"\n",
    "```\n",
    "\n",
    "For more details on getting started with Blender notebooks:\n",
    "\n",
    "- [cheng-chi/blender_notebooklink](https://github.com/cheng-chi/blender_notebook)\n",
    "\n",
    "It is important that we install and start the Jupyter notebook with the same version of Python that Blender uses.\n",
    "\n",
    "For more information on the current API and how to get started, visit the following websites:\n",
    "\n",
    "- [Python API Documentation](https://docs.blender.org/api/current/index.html)\n",
    "- [Quickstart guide](https://docs.blender.org/api/current/info_quickstart.html)\n",
    "\n",
    "\n",
    "Additional python packages required to use this notebook:\n",
    "\n",
    "```script\n",
    "  python -m pip install Image\n",
    "```\n"
   ]
  },
  {
   "cell_type": "markdown",
   "metadata": {},
   "source": [
    "## How to begin\n",
    "\n",
    "First of all we need to import some libraries to work with blender. We also create a collection to store our object. "
   ]
  },
  {
   "cell_type": "code",
   "execution_count": 3,
   "metadata": {},
   "outputs": [],
   "source": [
    "# blender related imports\n",
    "import bpy\n",
    "from mathutils import Vector\n",
    "\n",
    "# jupyter related imports\n",
    "from IPython.display import Image\n",
    "\n",
    "# used to get local environment \n",
    "import pathlib\n",
    "import os.path\n",
    "import time\n",
    "import numpy as np\n",
    "import PIL.Image\n",
    "import PIL.ImageColor\n",
    "\n",
    "exchange_path = pathlib.Path().absolute()\n",
    "\n"
   ]
  },
  {
   "cell_type": "markdown",
   "metadata": {},
   "source": [
    "## How to display view port in notebook"
   ]
  },
  {
   "cell_type": "code",
   "execution_count": 4,
   "metadata": {},
   "outputs": [],
   "source": [
    "def RenderViewport(name, x = 720, y = 512) :\n",
    "    output = os.path.join(exchange_path, name)\n",
    "    bpy.data.scenes['Scene'].render.filepath = output\n",
    "    bpy.data.scenes['Scene'].render.resolution_x = x\n",
    "    bpy.data.scenes['Scene'].render.resolution_y = y\n",
    "          \n",
    "    bpy.ops.render.opengl(animation=False, render_keyed_only=False, sequencer=False, write_still=True, view_context=True)\n",
    "    return Image(filename=output) \n",
    "#    return output \n",
    "\n",
    "def RenderOutput(name, x = 720, y = 512) : \n",
    "    output = os.path.join(exchange_path, name)\n",
    "    bpy.data.scenes['Scene'].render.resolution_x = x\n",
    "    bpy.data.scenes['Scene'].render.resolution_y = y\n",
    "    bpy.data.scenes['Scene'].render.image_settings.file_format = 'PNG' # 'JPEG' or 'FFMPEG'\n",
    "    bpy.data.scenes['Scene'].render.image_settings.color_mode = 'RGB' # 'BW' or 'RGBA'\n",
    "    bpy.data.scenes['Scene'].render.image_settings.color_depth = '8' # or '16'\n",
    "\n",
    "    bpy.data.scenes['Scene'].render.filepath = output\n",
    "    bpy.ops.render.render(use_viewport = True, write_still=True)\n",
    "    return Image(filename=output) \n"
   ]
  },
  {
   "cell_type": "markdown",
   "metadata": {},
   "source": [
    "### How to define mesh surface using numpy"
   ]
  },
  {
   "cell_type": "code",
   "execution_count": 5,
   "metadata": {},
   "outputs": [],
   "source": [
    "def NumpyMeshSurface(mesh, x,y,d) :\n",
    "    from collections import defaultdict\n",
    "\n",
    "    xN = 2*x.size\n",
    "    \n",
    "    # point contains blender x,y,z values; coord contains mesh grid coordinates\n",
    "    oo = [{'point':(x[i],y[j],dd), 'coord':(i,j)} for j,sub_d in enumerate(d) for i,dd in enumerate(sub_d)]\n",
    "\n",
    "    ff = defaultdict(lambda: [-1,-1,-1,-1])\n",
    "\n",
    "    for index,dat in enumerate(oo):\n",
    "      item = dat['coord'][0] + xN*dat['coord'][1]\n",
    "      ff[item + 0     ][2]= index\n",
    "      ff[item + 1     ][3]= index\n",
    "      ff[item + xN    ][1]= index\n",
    "      ff[item + xN + 1][0]= index\n",
    "\n",
    "    faces = list(filter(lambda f: len(list(filter(lambda x: not x == -1, f)))==4, ff.values()))\n",
    "    vertices = [ dat['point'] for dat in oo ]\n",
    "    \n",
    "    mesh.from_pydata(vertices, [], faces)\n"
   ]
  },
  {
   "cell_type": "markdown",
   "metadata": {},
   "source": [
    "## How to reset Blender main file\n",
    "\n",
    "We use the following command to reset the Blende main file to default:\n",
    "\n",
    "There is some issue with read_homefile: [link](https://blender.stackexchange.com/q/51494)"
   ]
  },
  {
   "cell_type": "code",
   "execution_count": 6,
   "metadata": {},
   "outputs": [],
   "source": [
    "#bpy.ops.wm.read_homefile()\n",
    "\n"
   ]
  },
  {
   "cell_type": "markdown",
   "metadata": {},
   "source": [
    "## How to create a new collection"
   ]
  },
  {
   "cell_type": "code",
   "execution_count": 7,
   "metadata": {},
   "outputs": [],
   "source": [
    "collection = bpy.data.collections.new(name='JupyterCollection')\n",
    "\n",
    "# to place in root container\n",
    "#bpy.context.scene.collection.children.link(collection)\n",
    "# OR\n",
    "# to place in a specific collection:\n",
    "bpy.data.collections['Collection'].children.link(collection)\n",
    "\n",
    "RenderViewport('CreateCollection.png')\n"
   ]
  },
  {
   "cell_type": "markdown",
   "metadata": {},
   "source": [
    "## How to add a new camera"
   ]
  },
  {
   "cell_type": "code",
   "execution_count": 8,
   "metadata": {
    "scrolled": false
   },
   "outputs": [],
   "source": [
    "camera = bpy.data.cameras.new(name='JupyterCamera')\n",
    "camera_object = bpy.data.objects.new('JupyterCamera',camera)\n",
    "\n",
    "# to place in root container\n",
    "#bpy.context.scene.collection.objects.link(camera_object)\n",
    "# OR\n",
    "# to place in a specific collection:\n",
    "bpy.data.collections['JupyterCollection'].objects.link(camera_object)\n",
    "\n",
    "# position to a secific location:\n",
    "bpy.data.objects['JupyterCamera'].location = [15,10,3]\n",
    "\n",
    "camera_constraint = bpy.data.objects['JupyterCamera'].constraints.new(type='TRACK_TO')\n",
    "camera_constraint.name = 'Track To Cube'\n",
    "camera_constraint.target = bpy.data.objects['Cube']\n",
    "#camera_constraint.subtarget = 'Group'\n",
    "\n",
    "# select the new camera as active render target\n",
    "bpy.context.scene.camera = camera_object\n",
    "\n",
    "RenderViewport('CreateCamera.png')\n"
   ]
  },
  {
   "cell_type": "markdown",
   "metadata": {},
   "source": [
    "## How to change the position of the Cube"
   ]
  },
  {
   "cell_type": "code",
   "execution_count": 9,
   "metadata": {},
   "outputs": [],
   "source": [
    "bpy.data.objects['Cube'].location = [ -5,-5,1 ]\n",
    "bpy.data.objects['Cube'].scale = [ 1,1,1 ]\n",
    "\n",
    "print(bpy.data.objects['Cube'].location)\n",
    "\n",
    "RenderViewport('CubeMove.png')\n"
   ]
  },
  {
   "cell_type": "markdown",
   "metadata": {},
   "source": [
    "## How to select faces of the default Cube\n",
    "\n",
    "- Sellecting objects\n",
    "\n",
    "The example below is based on the following post and articles:\n",
    "\n",
    "- [Selecting faces in Python](https://blender.stackexchange.com/a/75519/113375)\n",
    "- [Switch to vertex, edge, face mode in edit mode via python](https://blender.stackexchange.com/a/7069/113375)\n"
   ]
  },
  {
   "cell_type": "code",
   "execution_count": 10,
   "metadata": {},
   "outputs": [],
   "source": [
    "def NormalInDirection( normal, direction, limit = 0.5 ):\n",
    "    return direction.dot( normal ) > limit\n",
    "\n",
    "def GoingUp( normal, limit = 0.5 ):\n",
    "    return NormalInDirection( normal, Vector( (0, 0, 1 ) ), limit )\n",
    "\n",
    "def GoingDown( normal, limit = 0.5 ):\n",
    "    return NormalInDirection( normal, Vector( (0, 0, -1 ) ), limit )\n",
    "\n",
    "def GoingSide( normal, limit = 0.5 ):\n",
    "    return not ( GoingUp( normal, limit ) or GoingDown( normal, limit ) )\n",
    "\n",
    "\n",
    "cube = bpy.data.objects['Cube']\n",
    "prevMode = cube.mode\n",
    "selectMode = bpy.context.tool_settings.mesh_select_mode\n",
    "\n",
    "bpy.ops.object.mode_set(mode='OBJECT', toggle=False)\n",
    "bpy.ops.object.select_all(action='DESELECT')\n",
    "bpy.ops.object.select_pattern(pattern = cube.name)\n",
    "\n",
    "# Assign a tuple of 3 booleans to set Vertex, Edge, Face selection.\n",
    "bpy.context.tool_settings.mesh_select_mode = (False, False, True) \n",
    "\n",
    "# selects faces going side\n",
    "for face in cube.data.polygons:\n",
    "    face.select = GoingSide( face.normal )\n",
    "\n",
    "bpy.ops.object.mode_set(mode=prevMode, toggle=False)\n",
    "bpy.context.tool_settings.mesh_select_mode = selectMode\n",
    "\n",
    "bpy.ops.object.mode_set(mode='EDIT', toggle=False)\n",
    "\n",
    "RenderViewport('CubeSelectFaces.png')\n",
    "\n",
    "#bpy.ops.object.mode_set(mode='OBJECT', toggle=False)\n"
   ]
  },
  {
   "cell_type": "code",
   "execution_count": 11,
   "metadata": {},
   "outputs": [],
   "source": [
    "bpy.ops.object.mode_set(mode='OBJECT', toggle=False)\n"
   ]
  },
  {
   "cell_type": "markdown",
   "metadata": {},
   "source": [
    "## How to render camera to image"
   ]
  },
  {
   "cell_type": "code",
   "execution_count": 12,
   "metadata": {},
   "outputs": [],
   "source": [
    "# display the render engine:\n",
    "print(bpy.data.scenes['Scene'].render.engine)\n",
    "\n",
    "#output = os.path.join(exchange_path, 'JupyterOutput.png')\n",
    "#bpy.data.scenes['Scene'].render.resolution_x = 720\n",
    "#bpy.data.scenes['Scene'].render.resolution_y = 512\n",
    "#bpy.data.scenes['Scene'].render.image_settings.file_format = 'PNG' # 'JPEG' or 'FFMPEG'\n",
    "#bpy.data.scenes['Scene'].render.image_settings.color_mode = 'RGB' # 'BW' or 'RGBA'\n",
    "#bpy.data.scenes['Scene'].render.image_settings.color_depth = '8' # or '16'\n",
    "\n",
    "#bpy.data.scenes['Scene'].render.filepath = output\n",
    "#bpy.ops.render.render(use_viewport = True, write_still=True)\n",
    "#Image(filename=output) \n",
    "\n",
    "RenderOutput('JupyterOutput.png')\n"
   ]
  },
  {
   "cell_type": "code",
   "execution_count": null,
   "metadata": {},
   "outputs": [],
   "source": []
  },
  {
   "cell_type": "code",
   "execution_count": 13,
   "metadata": {},
   "outputs": [],
   "source": [
    "RenderViewport('JupyterViewport.png')\n"
   ]
  },
  {
   "cell_type": "markdown",
   "metadata": {},
   "source": [
    "## How to create new mesh"
   ]
  },
  {
   "cell_type": "code",
   "execution_count": 14,
   "metadata": {
    "scrolled": true
   },
   "outputs": [],
   "source": [
    "mesh = bpy.data.meshes.new(name='GravityMesh')\n",
    "mesh_object = bpy.data.objects.new('GravityMesh',mesh)\n",
    "\n",
    "# to place in a specific collection:\n",
    "bpy.data.collections['JupyterCollection'].objects.link(mesh_object)\n",
    "\n",
    "#mesh.from_pydata([(0,0,0),(0,1,0),(0,1,1),(0,0,1)], [], [[0,1,2,3]])\n",
    "\n",
    "xN = 100\n",
    "yN = 100\n",
    "x = np.linspace(-10, 10, xN)\n",
    "y = np.linspace(-10, 10, yN)\n",
    "xx, yy = np.meshgrid(x, y)\n",
    "d = np.sin(xx)*np.cos(yy)\n",
    "#d = - 10.0 / (np.sqrt(np.power(np.abs(xx),2.0) + np.power(np.abs(yy),2.0)) + 0.001) + 2.0 # + 0.5*np.sin(xx)*np.cos(yy)\n",
    "idx = (d < -5)\n",
    "d[idx] = -5\n",
    "NumpyMeshSurface(mesh, x,y,d)\n",
    "\n",
    "RenderViewport('JupyterNewMesh.png')\n"
   ]
  },
  {
   "cell_type": "markdown",
   "metadata": {},
   "source": [
    "## How to create basic color texture\n",
    "\n",
    "[color palete source](https://kinsta.com/wp-content/uploads/2020/07/colormind-pallete-generator.png)\n"
   ]
  },
  {
   "cell_type": "code",
   "execution_count": 15,
   "metadata": {},
   "outputs": [],
   "source": [
    "im= PIL.Image.new('RGB', (1, 5))\n",
    "im.putdata([\n",
    "    PIL.ImageColor.getrgb(\"#efbc75\"),\n",
    "    PIL.ImageColor.getrgb(\"#c1e1a7\"), \n",
    "    PIL.ImageColor.getrgb(\"#148dd8\"), \n",
    "    PIL.ImageColor.getrgb(\"#1a4a5a\"), \n",
    "    PIL.ImageColor.getrgb(\"#0e2c40\")\n",
    "])\n",
    "output = os.path.join(exchange_path, 'BasicColors.png')\n",
    "im.save(output)\n"
   ]
  },
  {
   "cell_type": "markdown",
   "metadata": {},
   "source": [
    "## How to create new material with texture using nodes"
   ]
  },
  {
   "cell_type": "code",
   "execution_count": 16,
   "metadata": {},
   "outputs": [],
   "source": [
    "mat = bpy.data.materials.new('Levels')\n",
    "# Assign it to object\n",
    "## if mesh.materials: mesh.materials[0] = mat else:\n",
    "mesh.materials.append(mat)\n",
    "\n",
    "mat.blend_method = 'BLEND'\n",
    "mat.show_transparent_back = False\n",
    "    \n",
    "mat.use_nodes = True\n",
    "\n",
    "bsdf = mat.node_tree.nodes[\"Principled BSDF\"]\n",
    "texImage = mat.node_tree.nodes.new('ShaderNodeTexImage')\n",
    "texImage.interpolation = 'Closest'  # 'Linear', 'Cubic', 'Smart'\n",
    "\n",
    "output = os.path.join(exchange_path, 'BasicColors.png')\n",
    "img = bpy.data.images.load(output)       # load image\n",
    "texImage.image = img\n",
    "\n",
    "bsdf.inputs['Roughness'].default_value = 0.40\n",
    "bsdf.inputs['Metallic'].default_value = 0.9\n",
    "mat.node_tree.links.new(bsdf.inputs['Base Color'], texImage.outputs['Color'])\n",
    "\n",
    "# OR\n",
    "#bsdf.inputs['Emission Strength'].default_value = 1.5\n",
    "#bsdf.inputs['Roughness'].default_value = 1.0\n",
    "#mat.node_tree.links.new(bsdf.inputs['Base Color'], texImage.outputs['Color'])\n",
    "#mat.node_tree.links.new(bsdf.inputs['Emission'], texImage.outputs['Color'])\n",
    "#bpy.context.scene.eevee.use_bloom = True\n",
    "#bpy.data.worlds[\"World\"].node_tree.nodes[\"Background\"].inputs['Strength'].default_value = 0.0\n",
    "\n",
    "#bsdf.inputs['Alpha'].default_value = 0.8\n"
   ]
  },
  {
   "cell_type": "markdown",
   "metadata": {},
   "source": [
    "## How to manipulate 3d view and project uv map "
   ]
  },
  {
   "cell_type": "code",
   "execution_count": 17,
   "metadata": {},
   "outputs": [],
   "source": [
    "# print(bpy.context.active_object)\n",
    "# print(bpy.context.selected_objects)\n",
    "\n",
    "# clear all selection\n",
    "bpy.ops.object.mode_set(mode='OBJECT', toggle=False)\n",
    "bpy.ops.object.select_all(action='DESELECT')\n",
    "\n",
    "# select our new mesh\n",
    "obj = bpy.data.objects['GravityMesh']\n",
    "obj.select_set(True)\n",
    "bpy.context.view_layer.objects.active = obj\n",
    "\n",
    "# change shader\n",
    "#bpy.ops.object.shade_flat()\n",
    "bpy.ops.object.shade_smooth()\n",
    "\n",
    "script_screen = bpy.data.screens['Layout']\n",
    "#script_screen = bpy.data.screens['Scripting']\n",
    "script_area = list(filter(lambda x: x.type == 'VIEW_3D', script_screen.areas))[0];\n",
    "script_view3d = script_area.spaces[0]\n",
    "script_region = list(filter(lambda x: x.type == 'WINDOW', script_area.regions))[0]\n",
    "\n",
    "# change view port settings\n",
    "script_view3d.shading.type = 'MATERIAL' #, 'SOLID', 'RENDERED', 'WIREFRAME'\n",
    "script_view3d.shading.light = 'MATCAP' # 'STUDIO', 'MATCAP', 'FLAT'\n",
    "#script_view3d.region_3d.view_perspective = 'PERSP' # 'ORTHO'\n",
    "\n",
    "\n",
    "# change from object mode to edit mode\n",
    "bpy.ops.object.mode_set(mode='EDIT', toggle=False)\n",
    "\n",
    "# assign a tuple of 3 booleans to set Vertex, Edge, Face selection.\n",
    "bpy.context.tool_settings.mesh_select_mode = (False, False, True) \n",
    "\n",
    "# select all faces to project uv map on them\n",
    "bpy.ops.mesh.select_all(action='SELECT')\n",
    "\n",
    "# prepare context override\n",
    "override = bpy.context.copy()\n",
    "override['area'] = script_area\n",
    "override['region'] = script_region\n",
    "\n",
    "# store current view rotation\n",
    "orig = script_view3d.region_3d.view_rotation.copy()\n",
    "\n",
    "# configure fron view\n",
    "bpy.ops.view3d.view_axis(override, type='FRONT')\n",
    "script_view3d.region_3d.update()\n",
    "\n",
    "# project uv map from view \n",
    "bpy.ops.uv.project_from_view(override, camera_bounds=False, correct_aspect=True, scale_to_bounds=True)\n",
    "\n",
    "bpy.ops.object.mode_set(mode='OBJECT', toggle=False)\n",
    "\n",
    "# restore current view rotation\n",
    "script_view3d.region_3d.view_rotation = orig\n",
    "script_view3d.region_3d.view_perspective = 'PERSP' # 'ORTHO'\n",
    "script_view3d.region_3d.update()\n",
    "\n",
    "RenderViewport('JupyterConture.png')\n"
   ]
  },
  {
   "cell_type": "code",
   "execution_count": 18,
   "metadata": {},
   "outputs": [],
   "source": [
    "RenderOutput('JupyterConturOutput.png')\n"
   ]
  },
  {
   "cell_type": "markdown",
   "metadata": {},
   "source": [
    "## How to load and save main file"
   ]
  },
  {
   "cell_type": "code",
   "execution_count": 19,
   "metadata": {},
   "outputs": [],
   "source": [
    "output = os.path.join(exchange_path, 'BlenderNotebook.blend')\n",
    "\n",
    "bpy.ops.wm.save_mainfile(filepath=output)\n",
    "\n",
    "# bpy.ops.wm.read_homefile(filepath=output)\n"
   ]
  },
  {
   "cell_type": "markdown",
   "metadata": {},
   "source": [
    "## How to include video "
   ]
  },
  {
   "cell_type": "code",
   "execution_count": 23,
   "metadata": {},
   "outputs": [],
   "source": [
    "#from IPython.display import HTML\n",
    "\n",
    "#HTML(\"\"\"\n",
    "#    <video alt=\"test\" controls>\n",
    "#        <source src=\"render_010001-0250.mkv\" type=\"video/mp4\">\n",
    "#    </video>\n",
    "#\"\"\")"
   ]
  },
  {
   "cell_type": "markdown",
   "metadata": {},
   "source": [
    "## TODO:\n",
    "- Investigate posiblity to add a viewport in the browser session."
   ]
  },
  {
   "cell_type": "markdown",
   "metadata": {},
   "source": [
    "## Additional source used to create this notebook\n",
    "\n",
    "- [How do I get the full path of the current file's directory?](https://stackoverflow.com/a/3430395/5770014)\n",
    "\n",
    "- [Getting started with Anaconda](https://www.anaconda.com/products/individual)\n"
   ]
  },
  {
   "cell_type": "code",
   "execution_count": null,
   "metadata": {},
   "outputs": [],
   "source": []
  }
 ],
 "metadata": {
  "kernelspec": {
   "display_name": "blender",
   "language": "python",
   "name": "blender"
  },
  "language_info": {
   "codemirror_mode": {
    "name": "ipython",
    "version": 3
   },
   "file_extension": ".py",
   "mimetype": "text/x-python",
   "name": "python",
   "nbconvert_exporter": "python",
   "pygments_lexer": "ipython3",
   "version": "3.7.7"
  }
 },
 "nbformat": 4,
 "nbformat_minor": 4
}
